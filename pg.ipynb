{
 "cells": [
  {
   "cell_type": "code",
   "execution_count": 1,
   "metadata": {},
   "outputs": [],
   "source": [
    "import os\n",
    "import django\n",
    "\n",
    "PROJECT_TITLE = \"app\"\n",
    "os.environ.setdefault(\"DJANGO_SETTINGS_MODULE\", PROJECT_TITLE + \".settings\")\n",
    "os.environ[\"DJANGO_ALLOW_ASYNC_UNSAFE\"] = \"True\"\n",
    "django.setup()"
   ]
  },
  {
   "cell_type": "code",
   "execution_count": 10,
   "metadata": {},
   "outputs": [
    {
     "name": "stdout",
     "output_type": "stream",
     "text": [
      "{'id': 2, 'last_message': None, 'is_online': False}\n"
     ]
    }
   ],
   "source": [
    "from django.http import QueryDict\n",
    "from chat.consumers import User\n",
    "from django.db.models import *\n",
    "\n",
    "from chat.models import Chat\n",
    "\n",
    "current_user = 1\n",
    "\n",
    "async for i in (\n",
    "    User.objects.exclude(id=current_user)\n",
    "    .prefetch_related(\n",
    "        Prefetch(\"chats\", Chat.objects.filter(participants__in=[current_user]))\n",
    "    ).select_related('chat_profile')\n",
    "    .annotate(\n",
    "        last_message=F(\"chats__last_message__message\"),\n",
    "        is_online=F(\"chat_profile__is_online\"),\n",
    "    )\n",
    "    .all()\n",
    "    .values(\"id\", \"last_message\", \"is_online\")\n",
    "):\n",
    "    print(i)"
   ]
  }
 ],
 "metadata": {
  "kernelspec": {
   "display_name": "venv",
   "language": "python",
   "name": "python3"
  },
  "language_info": {
   "codemirror_mode": {
    "name": "ipython",
    "version": 3
   },
   "file_extension": ".py",
   "mimetype": "text/x-python",
   "name": "python",
   "nbconvert_exporter": "python",
   "pygments_lexer": "ipython3",
   "version": "3.10.10"
  }
 },
 "nbformat": 4,
 "nbformat_minor": 2
}
